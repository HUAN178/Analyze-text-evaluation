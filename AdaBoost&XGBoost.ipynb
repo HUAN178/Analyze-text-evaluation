{
 "cells": [
  {
   "cell_type": "code",
   "execution_count": 77,
   "metadata": {},
   "outputs": [],
   "source": [
    "import pandas as pd\n",
    "pd.set_option(\"display.max_columns\",10) #設定pandas最多顯示出50個欄位資訊\n",
    "pd.set_option('display.max_rows', None)\n",
    "\n",
    "df =  pd.read_table(\"testing_label.txt\")\n",
    "df.rename(columns={\"0#####don ' t you hate it when you hang on to a seemingly interesting movie to see the ending only to find out that the ending sucks ?\":'文字'}, inplace = True)\n",
    "new=pd.DataFrame({'文字':\"0#####don ' t you hate it when you hang on to a seemingly interesting movie to see the ending only to find out that the ending sucks ?\",\n",
    "                  },\n",
    "                 index=[1]) \n",
    "df=df.append(new,ignore_index=True)   # ignore_index=True,表示不按原来的索引，从0开始自动递增"
   ]
  },
  {
   "cell_type": "code",
   "execution_count": 78,
   "metadata": {},
   "outputs": [
    {
     "data": {
      "text/html": [
       "<div>\n",
       "<style scoped>\n",
       "    .dataframe tbody tr th:only-of-type {\n",
       "        vertical-align: middle;\n",
       "    }\n",
       "\n",
       "    .dataframe tbody tr th {\n",
       "        vertical-align: top;\n",
       "    }\n",
       "\n",
       "    .dataframe thead th {\n",
       "        text-align: right;\n",
       "    }\n",
       "</style>\n",
       "<table border=\"1\" class=\"dataframe\">\n",
       "  <thead>\n",
       "    <tr style=\"text-align: right;\">\n",
       "      <th></th>\n",
       "      <th>文字</th>\n",
       "      <th>變數</th>\n",
       "      <th>字串</th>\n",
       "    </tr>\n",
       "  </thead>\n",
       "  <tbody>\n",
       "    <tr>\n",
       "      <td>0</td>\n",
       "      <td>0#####ok so never went to the movies because f...</td>\n",
       "      <td>0</td>\n",
       "      <td>Ok So Never Went To The Movies Because Friend ...</td>\n",
       "    </tr>\n",
       "    <tr>\n",
       "      <td>1</td>\n",
       "      <td>1#####can ' t wait to see diversity ' s perfor...</td>\n",
       "      <td>1</td>\n",
       "      <td>Can ' T Wait To See Diversity ' S Performance !</td>\n",
       "    </tr>\n",
       "    <tr>\n",
       "      <td>2</td>\n",
       "      <td>1#####i love britney spears haha joey this is ...</td>\n",
       "      <td>1</td>\n",
       "      <td>I Love Britney Spears Haha Joey This Is What U...</td>\n",
       "    </tr>\n",
       "    <tr>\n",
       "      <td>3</td>\n",
       "      <td>1#####1 more day !</td>\n",
       "      <td>1</td>\n",
       "      <td>1 More Day !</td>\n",
       "    </tr>\n",
       "    <tr>\n",
       "      <td>4</td>\n",
       "      <td>0#####hates being this burnt !! ouch</td>\n",
       "      <td>0</td>\n",
       "      <td>Hates Being This Burnt !! Ouch</td>\n",
       "    </tr>\n",
       "  </tbody>\n",
       "</table>\n",
       "</div>"
      ],
      "text/plain": [
       "                                                  文字 變數  \\\n",
       "0  0#####ok so never went to the movies because f...  0   \n",
       "1  1#####can ' t wait to see diversity ' s perfor...  1   \n",
       "2  1#####i love britney spears haha joey this is ...  1   \n",
       "3                                 1#####1 more day !  1   \n",
       "4               0#####hates being this burnt !! ouch  0   \n",
       "\n",
       "                                                  字串  \n",
       "0  Ok So Never Went To The Movies Because Friend ...  \n",
       "1    Can ' T Wait To See Diversity ' S Performance !  \n",
       "2  I Love Britney Spears Haha Joey This Is What U...  \n",
       "3                                       1 More Day !  \n",
       "4                     Hates Being This Burnt !! Ouch  "
      ]
     },
     "execution_count": 78,
     "metadata": {},
     "output_type": "execute_result"
    }
   ],
   "source": [
    "df['變數']=df['文字'].str.split(\"#####\").str.get(0).str.title()\n",
    "df['字串']=df['文字'].str.split(\"#####\").str.get(1).str.title()\n",
    "df.head()"
   ]
  },
  {
   "cell_type": "code",
   "execution_count": 79,
   "metadata": {},
   "outputs": [
    {
     "name": "stdout",
     "output_type": "stream",
     "text": [
      "(90, 519)\n"
     ]
    }
   ],
   "source": [
    "from sklearn.feature_extraction.text import TfidfVectorizer\n",
    "vectorizer2 = TfidfVectorizer()\n",
    "X_test = vectorizer2.fit_transform(df['字串'])\n",
    "Y_test = df['變數']\n",
    "#print(vectorizer.get_feature_names())\n",
    "print(X_test.shape)"
   ]
  },
  {
   "cell_type": "code",
   "execution_count": 80,
   "metadata": {},
   "outputs": [
    {
     "data": {
      "text/html": [
       "<div>\n",
       "<style scoped>\n",
       "    .dataframe tbody tr th:only-of-type {\n",
       "        vertical-align: middle;\n",
       "    }\n",
       "\n",
       "    .dataframe tbody tr th {\n",
       "        vertical-align: top;\n",
       "    }\n",
       "\n",
       "    .dataframe thead th {\n",
       "        text-align: right;\n",
       "    }\n",
       "</style>\n",
       "<table border=\"1\" class=\"dataframe\">\n",
       "  <thead>\n",
       "    <tr style=\"text-align: right;\">\n",
       "      <th></th>\n",
       "      <th>文字</th>\n",
       "    </tr>\n",
       "  </thead>\n",
       "  <tbody>\n",
       "    <tr>\n",
       "      <td>0</td>\n",
       "      <td>1 +++$+++ i ' m at the gym ! good morning !</td>\n",
       "    </tr>\n",
       "    <tr>\n",
       "      <td>1</td>\n",
       "      <td>1 +++$+++ if you can think of a song to draw p...</td>\n",
       "    </tr>\n",
       "    <tr>\n",
       "      <td>2</td>\n",
       "      <td>0 +++$+++ woohoohoo , missing my cousin noah ....</td>\n",
       "    </tr>\n",
       "    <tr>\n",
       "      <td>3</td>\n",
       "      <td>1 +++$+++ well , if you change your mind , i g...</td>\n",
       "    </tr>\n",
       "    <tr>\n",
       "      <td>4</td>\n",
       "      <td>1 +++$+++ i would far rather mow the lawn than...</td>\n",
       "    </tr>\n",
       "  </tbody>\n",
       "</table>\n",
       "</div>"
      ],
      "text/plain": [
       "                                                  文字\n",
       "0        1 +++$+++ i ' m at the gym ! good morning !\n",
       "1  1 +++$+++ if you can think of a song to draw p...\n",
       "2  0 +++$+++ woohoohoo , missing my cousin noah ....\n",
       "3  1 +++$+++ well , if you change your mind , i g...\n",
       "4  1 +++$+++ i would far rather mow the lawn than..."
      ]
     },
     "execution_count": 80,
     "metadata": {},
     "output_type": "execute_result"
    }
   ],
   "source": [
    "df1 =  pd.read_table(\"training_label.txt\")\n",
    "\n",
    "df1.rename(columns={\"1 +++$+++ are wtf ... awww thanks !\":'文字'}, inplace = True)\n",
    "new=pd.DataFrame({'文字':\"1 +++$+++ are wtf ... awww thanks !\",\n",
    "                  },\n",
    "                 index=[1]) \n",
    "df1=df1.append(new,ignore_index=True)\n",
    "train =df1.sample(10000)\n",
    "training=train.reset_index(drop=True)\n",
    "training.head()\n"
   ]
  },
  {
   "cell_type": "code",
   "execution_count": 81,
   "metadata": {},
   "outputs": [
    {
     "name": "stdout",
     "output_type": "stream",
     "text": [
      "(90, 519)\n",
      "(10000, 519)\n",
      "10000\n",
      "float64\n",
      "float64\n",
      "float64\n"
     ]
    },
    {
     "data": {
      "text/html": [
       "<div>\n",
       "<style scoped>\n",
       "    .dataframe tbody tr th:only-of-type {\n",
       "        vertical-align: middle;\n",
       "    }\n",
       "\n",
       "    .dataframe tbody tr th {\n",
       "        vertical-align: top;\n",
       "    }\n",
       "\n",
       "    .dataframe thead th {\n",
       "        text-align: right;\n",
       "    }\n",
       "</style>\n",
       "<table border=\"1\" class=\"dataframe\">\n",
       "  <thead>\n",
       "    <tr style=\"text-align: right;\">\n",
       "      <th></th>\n",
       "      <th>文字</th>\n",
       "      <th>變數</th>\n",
       "      <th>字串</th>\n",
       "    </tr>\n",
       "  </thead>\n",
       "  <tbody>\n",
       "    <tr>\n",
       "      <td>0</td>\n",
       "      <td>1 +++$+++ i ' m at the gym ! good morning !</td>\n",
       "      <td>1</td>\n",
       "      <td>I ' M At The Gym ! Good Morning !</td>\n",
       "    </tr>\n",
       "    <tr>\n",
       "      <td>1</td>\n",
       "      <td>1 +++$+++ if you can think of a song to draw p...</td>\n",
       "      <td>1</td>\n",
       "      <td>If You Can Think Of A Song To Draw Pirates By...</td>\n",
       "    </tr>\n",
       "    <tr>\n",
       "      <td>2</td>\n",
       "      <td>0 +++$+++ woohoohoo , missing my cousin noah ....</td>\n",
       "      <td>0</td>\n",
       "      <td>Woohoohoo , Missing My Cousin Noah . Noah , N...</td>\n",
       "    </tr>\n",
       "    <tr>\n",
       "      <td>3</td>\n",
       "      <td>1 +++$+++ well , if you change your mind , i g...</td>\n",
       "      <td>1</td>\n",
       "      <td>Well , If You Change Your Mind , I Got Some D...</td>\n",
       "    </tr>\n",
       "    <tr>\n",
       "      <td>4</td>\n",
       "      <td>1 +++$+++ i would far rather mow the lawn than...</td>\n",
       "      <td>1</td>\n",
       "      <td>I Would Far Rather Mow The Lawn Than Shovel ....</td>\n",
       "    </tr>\n",
       "  </tbody>\n",
       "</table>\n",
       "</div>"
      ],
      "text/plain": [
       "                                                  文字  變數  \\\n",
       "0        1 +++$+++ i ' m at the gym ! good morning !  1    \n",
       "1  1 +++$+++ if you can think of a song to draw p...  1    \n",
       "2  0 +++$+++ woohoohoo , missing my cousin noah ....  0    \n",
       "3  1 +++$+++ well , if you change your mind , i g...  1    \n",
       "4  1 +++$+++ i would far rather mow the lawn than...  1    \n",
       "\n",
       "                                                  字串  \n",
       "0                  I ' M At The Gym ! Good Morning !  \n",
       "1   If You Can Think Of A Song To Draw Pirates By...  \n",
       "2   Woohoohoo , Missing My Cousin Noah . Noah , N...  \n",
       "3   Well , If You Change Your Mind , I Got Some D...  \n",
       "4   I Would Far Rather Mow The Lawn Than Shovel ....  "
      ]
     },
     "execution_count": 81,
     "metadata": {},
     "output_type": "execute_result"
    }
   ],
   "source": [
    "training['變數']=training['文字'].str.split('+').str.get(0).str.title()\n",
    "training['字串']=training['文字'].str.split('+').str.get(6).str.title()\n",
    "y=training['變數']\n",
    "\n",
    "Y_test = df['變數']\n",
    "print(X_test.shape)\n",
    "print(X[:,:519].shape)\n",
    "print(len(y))\n",
    "Y_test=Y_test.astype(np.float64)\n",
    "y=y.astype(np.float64)\n",
    "print(Y_test.dtype)\n",
    "print(X_test.dtype)\n",
    "print(y.dtype)\n",
    "training.head()"
   ]
  },
  {
   "cell_type": "code",
   "execution_count": 57,
   "metadata": {},
   "outputs": [
    {
     "name": "stdout",
     "output_type": "stream",
     "text": [
      "(90, 519)\n",
      "(10000, 519)\n",
      "10000\n",
      "float64\n",
      "float64\n",
      "float64\n"
     ]
    }
   ],
   "source": [
    "from sklearn.feature_extraction.text import CountVectorizer\n",
    "import numpy as np\n",
    "vectorizer = CountVectorizer(analyzer='word', ngram_range=(3,3))\n",
    "X = vectorizer.fit_transform(training['字串'])\n",
    "X_test = vectorizer2.fit_transform(df['字串'])"
   ]
  },
  {
   "cell_type": "code",
   "execution_count": 82,
   "metadata": {},
   "outputs": [
    {
     "name": "stdout",
     "output_type": "stream",
     "text": [
      "(10000, 13567)\n"
     ]
    }
   ],
   "source": [
    "from sklearn.feature_extraction.text import TfidfVectorizer\n",
    "vectorizer = TfidfVectorizer()\n",
    "X = vectorizer.fit_transform(training['字串'])\n",
    "#print(vectorizer.get_feature_names())\n",
    "print(X.shape)"
   ]
  },
  {
   "cell_type": "code",
   "execution_count": 133,
   "metadata": {},
   "outputs": [
    {
     "name": "stdout",
     "output_type": "stream",
     "text": [
      "(10000, 380)\n",
      "(90, 380)\n"
     ]
    }
   ],
   "source": [
    "from keras.preprocessing.text import Tokenizer\n",
    "from keras.preprocessing import sequence\n",
    "token = Tokenizer(num_words=3800) \n",
    "token.fit_on_texts(training['字串'])  \n",
    "token.word_index\n",
    "x_train_seq = token.texts_to_sequences(training['字串'])\n",
    "x_test_seq = token.texts_to_sequences(df['字串'])\n",
    "x_train = sequence.pad_sequences(x_train_seq, maxlen=380)\n",
    "x_test = sequence.pad_sequences(x_test_seq, maxlen=380)\n",
    "print(x_train.shape)\n",
    "print(x_test.shape)"
   ]
  },
  {
   "cell_type": "code",
   "execution_count": 108,
   "metadata": {},
   "outputs": [
    {
     "data": {
      "text/plain": [
       "AdaBoostClassifier(algorithm='SAMME.R', base_estimator=None, learning_rate=0.8,\n",
       "                   n_estimators=400, random_state=None)"
      ]
     },
     "execution_count": 108,
     "metadata": {},
     "output_type": "execute_result"
    }
   ],
   "source": [
    " from sklearn.ensemble import AdaBoostClassifier\n",
    "from sklearn.datasets import make_classification\n",
    "adb = AdaBoostClassifier(n_estimators=400,learning_rate=0.8)\n",
    "#adb.fit(X[:,:519], y)\n",
    "adb.fit(x_train, y)"
   ]
  },
  {
   "cell_type": "code",
   "execution_count": 109,
   "metadata": {},
   "outputs": [
    {
     "data": {
      "text/plain": [
       "0.6257"
      ]
     },
     "execution_count": 109,
     "metadata": {},
     "output_type": "execute_result"
    }
   ],
   "source": [
    "#adb.score(X[:,:519], y)\n",
    "adb.score(x_train, y)"
   ]
  },
  {
   "cell_type": "code",
   "execution_count": 110,
   "metadata": {},
   "outputs": [
    {
     "name": "stdout",
     "output_type": "stream",
     "text": [
      "              precision    recall  f1-score   support\n",
      "\n",
      "         0.0       0.46      0.70      0.56        37\n",
      "         1.0       0.68      0.43      0.53        53\n",
      "\n",
      "    accuracy                           0.54        90\n",
      "   macro avg       0.57      0.57      0.54        90\n",
      "weighted avg       0.59      0.54      0.54        90\n",
      "\n"
     ]
    }
   ],
   "source": [
    "from sklearn import metrics\n",
    "print(metrics.classification_report(Y_test, adb.predict(x_test)))\n",
    "#print(metrics.classification_report(y, adb.predict(x_train)))"
   ]
  },
  {
   "cell_type": "code",
   "execution_count": null,
   "metadata": {},
   "outputs": [],
   "source": [
    "import xgboost as xgb\n",
    "xgbc = xgb.XGBClassifier(max_depth=10)\n",
    "y=y.astype(np.int32)\n",
    "#xgbr.fit(X[:,:519], y)\n",
    "xgbc.fit(x_train, y)"
   ]
  },
  {
   "cell_type": "code",
   "execution_count": 129,
   "metadata": {},
   "outputs": [
    {
     "data": {
      "text/plain": [
       "0.9496"
      ]
     },
     "execution_count": 129,
     "metadata": {},
     "output_type": "execute_result"
    }
   ],
   "source": [
    "xgbc.score(x_train, y)"
   ]
  },
  {
   "cell_type": "code",
   "execution_count": 128,
   "metadata": {},
   "outputs": [
    {
     "name": "stdout",
     "output_type": "stream",
     "text": [
      "              precision    recall  f1-score   support\n",
      "\n",
      "         0.0       0.43      0.57      0.49        37\n",
      "         1.0       0.61      0.47      0.53        53\n",
      "\n",
      "    accuracy                           0.51        90\n",
      "   macro avg       0.52      0.52      0.51        90\n",
      "weighted avg       0.54      0.51      0.51        90\n",
      "\n"
     ]
    }
   ],
   "source": [
    "print(metrics.classification_report(Y_test, xgbc.predict(x_test)))\n",
    "#print(metrics.classification_report(Y_test, xgbc.predict(X_test)))"
   ]
  }
 ],
 "metadata": {
  "kernelspec": {
   "display_name": "Python 3",
   "language": "python",
   "name": "python3"
  },
  "language_info": {
   "codemirror_mode": {
    "name": "ipython",
    "version": 3
   },
   "file_extension": ".py",
   "mimetype": "text/x-python",
   "name": "python",
   "nbconvert_exporter": "python",
   "pygments_lexer": "ipython3",
   "version": "3.7.4"
  }
 },
 "nbformat": 4,
 "nbformat_minor": 2
}
