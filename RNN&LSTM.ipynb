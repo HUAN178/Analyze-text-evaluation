{
 "cells": [
  {
   "cell_type": "code",
   "execution_count": 1,
   "metadata": {},
   "outputs": [
    {
     "data": {
      "text/html": [
       "<div>\n",
       "<style scoped>\n",
       "    .dataframe tbody tr th:only-of-type {\n",
       "        vertical-align: middle;\n",
       "    }\n",
       "\n",
       "    .dataframe tbody tr th {\n",
       "        vertical-align: top;\n",
       "    }\n",
       "\n",
       "    .dataframe thead th {\n",
       "        text-align: right;\n",
       "    }\n",
       "</style>\n",
       "<table border=\"1\" class=\"dataframe\">\n",
       "  <thead>\n",
       "    <tr style=\"text-align: right;\">\n",
       "      <th></th>\n",
       "      <th>文字</th>\n",
       "      <th>變數</th>\n",
       "      <th>字串</th>\n",
       "    </tr>\n",
       "  </thead>\n",
       "  <tbody>\n",
       "    <tr>\n",
       "      <td>0</td>\n",
       "      <td>0#####ok so never went to the movies because f...</td>\n",
       "      <td>0</td>\n",
       "      <td>Ok So Never Went To The Movies Because Friend ...</td>\n",
       "    </tr>\n",
       "    <tr>\n",
       "      <td>1</td>\n",
       "      <td>1#####can ' t wait to see diversity ' s perfor...</td>\n",
       "      <td>1</td>\n",
       "      <td>Can ' T Wait To See Diversity ' S Performance !</td>\n",
       "    </tr>\n",
       "    <tr>\n",
       "      <td>2</td>\n",
       "      <td>1#####i love britney spears haha joey this is ...</td>\n",
       "      <td>1</td>\n",
       "      <td>I Love Britney Spears Haha Joey This Is What U...</td>\n",
       "    </tr>\n",
       "    <tr>\n",
       "      <td>3</td>\n",
       "      <td>1#####1 more day !</td>\n",
       "      <td>1</td>\n",
       "      <td>1 More Day !</td>\n",
       "    </tr>\n",
       "    <tr>\n",
       "      <td>4</td>\n",
       "      <td>0#####hates being this burnt !! ouch</td>\n",
       "      <td>0</td>\n",
       "      <td>Hates Being This Burnt !! Ouch</td>\n",
       "    </tr>\n",
       "  </tbody>\n",
       "</table>\n",
       "</div>"
      ],
      "text/plain": [
       "                                                  文字 變數  \\\n",
       "0  0#####ok so never went to the movies because f...  0   \n",
       "1  1#####can ' t wait to see diversity ' s perfor...  1   \n",
       "2  1#####i love britney spears haha joey this is ...  1   \n",
       "3                                 1#####1 more day !  1   \n",
       "4               0#####hates being this burnt !! ouch  0   \n",
       "\n",
       "                                                  字串  \n",
       "0  Ok So Never Went To The Movies Because Friend ...  \n",
       "1    Can ' T Wait To See Diversity ' S Performance !  \n",
       "2  I Love Britney Spears Haha Joey This Is What U...  \n",
       "3                                       1 More Day !  \n",
       "4                     Hates Being This Burnt !! Ouch  "
      ]
     },
     "execution_count": 1,
     "metadata": {},
     "output_type": "execute_result"
    }
   ],
   "source": [
    "import pandas as pd\n",
    "import numpy as np\n",
    "pd.set_option(\"display.max_columns\",10) #設定pandas最多顯示出50個欄位資訊\n",
    "pd.set_option('display.max_rows', None)\n",
    "\n",
    "df =  pd.read_table(\"testing_label.txt\")\n",
    "df.rename(columns={\"0#####don ' t you hate it when you hang on to a seemingly interesting movie to see the ending only to find out that the ending sucks ?\":'文字'}, inplace = True)\n",
    "new=pd.DataFrame({'文字':\"0#####don ' t you hate it when you hang on to a seemingly interesting movie to see the ending only to find out that the ending sucks ?\",\n",
    "                  },\n",
    "                 index=[1]) \n",
    "df=df.append(new,ignore_index=True)   # ignore_index=True,表示不按原来的索引，从0开始自动递增\n",
    "df['變數']=df['文字'].str.split(\"#####\").str.get(0).str.title()\n",
    "df['字串']=df['文字'].str.split(\"#####\").str.get(1).str.title()\n",
    "df.head() #test"
   ]
  },
  {
   "cell_type": "code",
   "execution_count": 2,
   "metadata": {},
   "outputs": [],
   "source": [
    "Y_test = df['變數']\n",
    "Y_test=Y_test.astype(np.float64)"
   ]
  },
  {
   "cell_type": "code",
   "execution_count": 3,
   "metadata": {},
   "outputs": [
    {
     "data": {
      "text/html": [
       "<div>\n",
       "<style scoped>\n",
       "    .dataframe tbody tr th:only-of-type {\n",
       "        vertical-align: middle;\n",
       "    }\n",
       "\n",
       "    .dataframe tbody tr th {\n",
       "        vertical-align: top;\n",
       "    }\n",
       "\n",
       "    .dataframe thead th {\n",
       "        text-align: right;\n",
       "    }\n",
       "</style>\n",
       "<table border=\"1\" class=\"dataframe\">\n",
       "  <thead>\n",
       "    <tr style=\"text-align: right;\">\n",
       "      <th></th>\n",
       "      <th>文字</th>\n",
       "      <th>變數</th>\n",
       "      <th>字串</th>\n",
       "    </tr>\n",
       "  </thead>\n",
       "  <tbody>\n",
       "    <tr>\n",
       "      <td>0</td>\n",
       "      <td>1 +++$+++ hands up who thinks axl rose is gay ...</td>\n",
       "      <td>1</td>\n",
       "      <td>Hands Up Who Thinks Axl Rose Is Gay Not That ...</td>\n",
       "    </tr>\n",
       "    <tr>\n",
       "      <td>1</td>\n",
       "      <td>0 +++$+++ you have the flu ? is just getting o...</td>\n",
       "      <td>0</td>\n",
       "      <td>You Have The Flu ? Is Just Getting Over It He...</td>\n",
       "    </tr>\n",
       "    <tr>\n",
       "      <td>2</td>\n",
       "      <td>0 +++$+++ can ' t sleep cause i feel like i ' ...</td>\n",
       "      <td>0</td>\n",
       "      <td>Can ' T Sleep Cause I Feel Like I ' M Going T...</td>\n",
       "    </tr>\n",
       "    <tr>\n",
       "      <td>3</td>\n",
       "      <td>0 +++$+++ i just bought a copy of the sun . i ...</td>\n",
       "      <td>0</td>\n",
       "      <td>I Just Bought A Copy Of The Sun . I Feel Dirty .</td>\n",
       "    </tr>\n",
       "    <tr>\n",
       "      <td>4</td>\n",
       "      <td>0 +++$+++ i think i am just destined to wear h...</td>\n",
       "      <td>0</td>\n",
       "      <td>I Think I Am Just Destined To Wear High Water...</td>\n",
       "    </tr>\n",
       "  </tbody>\n",
       "</table>\n",
       "</div>"
      ],
      "text/plain": [
       "                                                  文字  變數  \\\n",
       "0  1 +++$+++ hands up who thinks axl rose is gay ...  1    \n",
       "1  0 +++$+++ you have the flu ? is just getting o...  0    \n",
       "2  0 +++$+++ can ' t sleep cause i feel like i ' ...  0    \n",
       "3  0 +++$+++ i just bought a copy of the sun . i ...  0    \n",
       "4  0 +++$+++ i think i am just destined to wear h...  0    \n",
       "\n",
       "                                                  字串  \n",
       "0   Hands Up Who Thinks Axl Rose Is Gay Not That ...  \n",
       "1   You Have The Flu ? Is Just Getting Over It He...  \n",
       "2   Can ' T Sleep Cause I Feel Like I ' M Going T...  \n",
       "3   I Just Bought A Copy Of The Sun . I Feel Dirty .  \n",
       "4   I Think I Am Just Destined To Wear High Water...  "
      ]
     },
     "execution_count": 3,
     "metadata": {},
     "output_type": "execute_result"
    }
   ],
   "source": [
    "df1 =  pd.read_table(\"training_label.txt\")\n",
    "\n",
    "df1.rename(columns={\"1 +++$+++ are wtf ... awww thanks !\":'文字'}, inplace = True)\n",
    "new=pd.DataFrame({'文字':\"1 +++$+++ are wtf ... awww thanks !\",\n",
    "                  },\n",
    "                 index=[1]) \n",
    "df1=df1.append(new,ignore_index=True)\n",
    "train =df1.sample(10000)\n",
    "training=train.reset_index(drop=True)\n",
    "training['變數']=training['文字'].str.split('+').str.get(0).str.title()\n",
    "training['字串']=training['文字'].str.split('+').str.get(6).str.title()\n",
    "y=training['變數']\n",
    "y=y.astype(np.float64)\n",
    "training.head()\n"
   ]
  },
  {
   "cell_type": "code",
   "execution_count": 4,
   "metadata": {},
   "outputs": [
    {
     "name": "stderr",
     "output_type": "stream",
     "text": [
      "Using TensorFlow backend.\n"
     ]
    }
   ],
   "source": [
    "from keras.preprocessing.text import Tokenizer\n",
    "from keras.preprocessing import sequence\n",
    "token = Tokenizer(num_words=3800) \n",
    "token.fit_on_texts(training['字串'])  \n",
    "token.word_index\n",
    "x_train_seq = token.texts_to_sequences(training['字串'])\n",
    "x_test_seq = token.texts_to_sequences(df['字串'])\n",
    "x_train = sequence.pad_sequences(x_train_seq, maxlen=380)\n",
    "x_test = sequence.pad_sequences(x_test_seq, maxlen=380)\n"
   ]
  },
  {
   "cell_type": "code",
   "execution_count": 5,
   "metadata": {},
   "outputs": [],
   "source": [
    "from keras.models import Sequential\n",
    "from keras.layers.core import Dense,Dropout,Activation,Flatten\n",
    "from keras.layers.embeddings import Embedding\n",
    "from keras.layers.recurrent import SimpleRNN"
   ]
  },
  {
   "cell_type": "code",
   "execution_count": 25,
   "metadata": {},
   "outputs": [],
   "source": [
    "modelRNN = Sequential()  \n",
    "modelRNN.add(Embedding(output_dim=32,   #輸出的維度是32，希望將數字list轉換為32維度的向量\n",
    "     input_dim=3800,  #輸入的維度是3800，也就是我們之前建立的字典是3800字\n",
    "     input_length=380)) #數字list截長補短後都是380個數字\n"
   ]
  },
  {
   "cell_type": "code",
   "execution_count": 26,
   "metadata": {},
   "outputs": [
    {
     "name": "stdout",
     "output_type": "stream",
     "text": [
      "Model: \"sequential_3\"\n",
      "_________________________________________________________________\n",
      "Layer (type)                 Output Shape              Param #   \n",
      "=================================================================\n",
      "embedding_3 (Embedding)      (None, 380, 32)           115200    \n",
      "_________________________________________________________________\n",
      "simple_rnn_2 (SimpleRNN)     (None, 16)                784       \n",
      "_________________________________________________________________\n",
      "dense_4 (Dense)              (None, 256)               4352      \n",
      "_________________________________________________________________\n",
      "dense_5 (Dense)              (None, 1)                 257       \n",
      "=================================================================\n",
      "Total params: 120,593\n",
      "Trainable params: 120,593\n",
      "Non-trainable params: 0\n",
      "_________________________________________________________________\n"
     ]
    }
   ],
   "source": [
    "modelRNN.add(SimpleRNN(units=16))\n",
    "modelRNN.add(Dense(units=256,activation='relu')) \n",
    "#modelRNN.add(Dropout(0.7))\n",
    "modelRNN.add(Dense(units=1,activation='sigmoid'))\n",
    "modelRNN.summary()\n"
   ]
  },
  {
   "cell_type": "code",
   "execution_count": 27,
   "metadata": {},
   "outputs": [],
   "source": [
    "modelRNN.compile(loss='binary_crossentropy',optimizer='adam',metrics=['accuracy']) "
   ]
  },
  {
   "cell_type": "code",
   "execution_count": 28,
   "metadata": {},
   "outputs": [
    {
     "name": "stderr",
     "output_type": "stream",
     "text": [
      "C:\\Users\\HuanJian\\Anaconda3\\envs\\tensorflow_gpu\\lib\\site-packages\\tensorflow_core\\python\\framework\\indexed_slices.py:424: UserWarning: Converting sparse IndexedSlices to a dense Tensor of unknown shape. This may consume a large amount of memory.\n",
      "  \"Converting sparse IndexedSlices to a dense Tensor of unknown shape. \"\n"
     ]
    },
    {
     "name": "stdout",
     "output_type": "stream",
     "text": [
      "Train on 8000 samples, validate on 2000 samples\n",
      "Epoch 1/10\n",
      " - 25s - loss: 0.6775 - accuracy: 0.5619 - val_loss: 0.6219 - val_accuracy: 0.6475\n",
      "Epoch 2/10\n",
      " - 25s - loss: 0.5079 - accuracy: 0.7531 - val_loss: 0.5454 - val_accuracy: 0.7235\n",
      "Epoch 3/10\n",
      " - 25s - loss: 0.3503 - accuracy: 0.8472 - val_loss: 0.5977 - val_accuracy: 0.7145\n",
      "Epoch 4/10\n",
      " - 26s - loss: 0.2105 - accuracy: 0.9233 - val_loss: 0.7799 - val_accuracy: 0.7000\n",
      "Epoch 5/10\n",
      " - 26s - loss: 0.1101 - accuracy: 0.9617 - val_loss: 1.0923 - val_accuracy: 0.6630\n",
      "Epoch 6/10\n",
      " - 27s - loss: 0.0649 - accuracy: 0.9783 - val_loss: 1.2329 - val_accuracy: 0.6690\n",
      "Epoch 7/10\n",
      " - 26s - loss: 0.0340 - accuracy: 0.9895 - val_loss: 1.4430 - val_accuracy: 0.6650\n",
      "Epoch 8/10\n",
      " - 27s - loss: 0.0199 - accuracy: 0.9942 - val_loss: 1.6212 - val_accuracy: 0.6695\n",
      "Epoch 9/10\n",
      " - 28s - loss: 0.0133 - accuracy: 0.9961 - val_loss: 1.7481 - val_accuracy: 0.6660\n",
      "Epoch 10/10\n",
      " - 28s - loss: 0.0109 - accuracy: 0.9964 - val_loss: 1.8302 - val_accuracy: 0.6715\n"
     ]
    }
   ],
   "source": [
    "train_history = modelRNN.fit(x_train,y,epochs=10,batch_size=100,verbose=2,validation_split=0.2)#"
   ]
  },
  {
   "cell_type": "code",
   "execution_count": 29,
   "metadata": {},
   "outputs": [
    {
     "name": "stdout",
     "output_type": "stream",
     "text": [
      "90/90 [==============================] - 0s 5ms/step\n"
     ]
    },
    {
     "data": {
      "text/plain": [
       "0.7777777910232544"
      ]
     },
     "execution_count": 29,
     "metadata": {},
     "output_type": "execute_result"
    }
   ],
   "source": [
    "scores = modelRNN.evaluate(x_test, Y_test,verbose=1)\n",
    "scores[1]"
   ]
  },
  {
   "cell_type": "code",
   "execution_count": 33,
   "metadata": {},
   "outputs": [],
   "source": [
    "token = Tokenizer(num_words=3800) \n",
    "token.fit_on_texts(training['字串'])  \n",
    "token.word_index\n",
    "x_train_seq = token.texts_to_sequences(training['字串'])\n",
    "x_test_seq = token.texts_to_sequences(df['字串'])\n",
    "x_train = sequence.pad_sequences(x_train_seq, maxlen=380)\n",
    "x_test = sequence.pad_sequences(x_test_seq, maxlen=380)\n"
   ]
  },
  {
   "cell_type": "code",
   "execution_count": 6,
   "metadata": {},
   "outputs": [
    {
     "name": "stdout",
     "output_type": "stream",
     "text": [
      "WARNING:tensorflow:Large dropout rate: 0.7 (>0.5). In TensorFlow 2.x, dropout() uses dropout rate instead of keep_prob. Please ensure that this is intended.\n",
      "Model: \"sequential_1\"\n",
      "_________________________________________________________________\n",
      "Layer (type)                 Output Shape              Param #   \n",
      "=================================================================\n",
      "embedding_1 (Embedding)      (None, 380, 32)           121600    \n",
      "_________________________________________________________________\n",
      "dropout_1 (Dropout)          (None, 380, 32)           0         \n",
      "_________________________________________________________________\n",
      "lstm_1 (LSTM)                (None, 32)                8320      \n",
      "_________________________________________________________________\n",
      "dense_1 (Dense)              (None, 1)                 33        \n",
      "=================================================================\n",
      "Total params: 129,953\n",
      "Trainable params: 129,953\n",
      "Non-trainable params: 0\n",
      "_________________________________________________________________\n"
     ]
    }
   ],
   "source": [
    "from keras.models import Sequential\n",
    "from keras.layers.core import Dense,Dropout,Activation,Flatten\n",
    "from keras.layers.embeddings import Embedding\n",
    "from keras.layers.recurrent import LSTM\n",
    "\n",
    "modelLSTM = Sequential() #建立模型\n",
    "modelLSTM.add(Embedding(output_dim=32,input_dim=3800, input_length=380)) #數字list截長補短後都是380個數字\n",
    "modelLSTM.add(Dropout(0.7)) \n",
    "modelLSTM .add(LSTM(32)) \n",
    "modelLSTM .add(Dense(units=1,activation='sigmoid')) \n",
    "\n",
    "\n",
    "modelLSTM .summary()\n",
    "\n",
    "modelLSTM.compile(loss='binary_crossentropy',optimizer='adam',metrics=['accuracy']) "
   ]
  },
  {
   "cell_type": "code",
   "execution_count": 7,
   "metadata": {},
   "outputs": [
    {
     "name": "stderr",
     "output_type": "stream",
     "text": [
      "C:\\Users\\HuanJian\\Anaconda3\\envs\\tensorflow_gpu\\lib\\site-packages\\tensorflow_core\\python\\framework\\indexed_slices.py:424: UserWarning: Converting sparse IndexedSlices to a dense Tensor of unknown shape. This may consume a large amount of memory.\n",
      "  \"Converting sparse IndexedSlices to a dense Tensor of unknown shape. \"\n"
     ]
    },
    {
     "name": "stdout",
     "output_type": "stream",
     "text": [
      "Train on 8000 samples, validate on 2000 samples\n",
      "Epoch 1/10\n",
      " - 39s - loss: 0.6796 - accuracy: 0.5731 - val_loss: 0.6491 - val_accuracy: 0.6580\n",
      "Epoch 2/10\n",
      " - 38s - loss: 0.5891 - accuracy: 0.6946 - val_loss: 0.5601 - val_accuracy: 0.7165\n",
      "Epoch 3/10\n",
      " - 39s - loss: 0.4957 - accuracy: 0.7619 - val_loss: 0.5455 - val_accuracy: 0.7340\n",
      "Epoch 4/10\n",
      " - 35s - loss: 0.4539 - accuracy: 0.7930 - val_loss: 0.5294 - val_accuracy: 0.7495\n",
      "Epoch 5/10\n",
      " - 37s - loss: 0.4185 - accuracy: 0.8127 - val_loss: 0.5376 - val_accuracy: 0.7460\n",
      "Epoch 6/10\n",
      " - 39s - loss: 0.3965 - accuracy: 0.8294 - val_loss: 0.5477 - val_accuracy: 0.7460\n",
      "Epoch 7/10\n",
      " - 40s - loss: 0.3799 - accuracy: 0.8374 - val_loss: 0.5688 - val_accuracy: 0.7470\n",
      "Epoch 8/10\n",
      " - 38s - loss: 0.3723 - accuracy: 0.8339 - val_loss: 0.5699 - val_accuracy: 0.7390\n",
      "Epoch 9/10\n",
      " - 38s - loss: 0.3509 - accuracy: 0.8510 - val_loss: 0.5800 - val_accuracy: 0.7355\n",
      "Epoch 10/10\n",
      " - 38s - loss: 0.3527 - accuracy: 0.8479 - val_loss: 0.5983 - val_accuracy: 0.7375\n"
     ]
    },
    {
     "data": {
      "text/plain": [
       "<keras.callbacks.callbacks.History at 0x27c94c68dc8>"
      ]
     },
     "execution_count": 7,
     "metadata": {},
     "output_type": "execute_result"
    }
   ],
   "source": [
    "modelLSTM.fit(x_train, y, epochs=10, batch_size=100,verbose=2,validation_split=0.2)"
   ]
  },
  {
   "cell_type": "code",
   "execution_count": 135,
   "metadata": {},
   "outputs": [
    {
     "name": "stdout",
     "output_type": "stream",
     "text": [
      "90/90 [==============================] - 2s 23ms/step\n"
     ]
    },
    {
     "data": {
      "text/plain": [
       "0.8444444537162781"
      ]
     },
     "execution_count": 135,
     "metadata": {},
     "output_type": "execute_result"
    }
   ],
   "source": [
    "scores = modelLSTM.evaluate(x_test, Y_test,verbose=1)\n",
    "scores[1]"
   ]
  },
  {
   "cell_type": "code",
   "execution_count": null,
   "metadata": {},
   "outputs": [],
   "source": []
  }
 ],
 "metadata": {
  "kernelspec": {
   "display_name": "Python 3",
   "language": "python",
   "name": "python3"
  },
  "language_info": {
   "codemirror_mode": {
    "name": "ipython",
    "version": 3
   },
   "file_extension": ".py",
   "mimetype": "text/x-python",
   "name": "python",
   "nbconvert_exporter": "python",
   "pygments_lexer": "ipython3",
   "version": "3.7.4"
  }
 },
 "nbformat": 4,
 "nbformat_minor": 2
}
